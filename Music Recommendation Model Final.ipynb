{
 "cells": [
  {
   "cell_type": "code",
   "execution_count": 8,
   "id": "9fc36c5d-b02c-42c8-8d7c-dd1a1418151b",
   "metadata": {},
   "outputs": [
    {
     "name": "stdout",
     "output_type": "stream",
     "text": [
      "Collecting lightgbm\n",
      "  Downloading lightgbm-4.3.0-py3-none-win_amd64.whl.metadata (19 kB)\n",
      "Requirement already satisfied: numpy in c:\\users\\ehsaa\\appdata\\local\\programs\\python\\python312\\lib\\site-packages (from lightgbm) (1.26.4)\n",
      "Requirement already satisfied: scipy in c:\\users\\ehsaa\\appdata\\local\\programs\\python\\python312\\lib\\site-packages (from lightgbm) (1.12.0)\n",
      "Downloading lightgbm-4.3.0-py3-none-win_amd64.whl (1.3 MB)\n",
      "   ---------------------------------------- 0.0/1.3 MB ? eta -:--:--\n",
      "   --- ------------------------------------ 0.1/1.3 MB 2.6 MB/s eta 0:00:01\n",
      "   ------------------ --------------------- 0.6/1.3 MB 6.4 MB/s eta 0:00:01\n",
      "   ---------------------------------- ----- 1.1/1.3 MB 9.1 MB/s eta 0:00:01\n",
      "   ---------------------------------------- 1.3/1.3 MB 8.5 MB/s eta 0:00:00\n",
      "Installing collected packages: lightgbm\n",
      "Successfully installed lightgbm-4.3.0\n",
      "Note: you may need to restart the kernel to use updated packages.\n"
     ]
    }
   ],
   "source": [
    "pip install lightgbm"
   ]
  },
  {
   "cell_type": "code",
   "execution_count": 8,
   "id": "efb42b87-210b-4521-9e44-4b605deb3732",
   "metadata": {},
   "outputs": [
    {
     "name": "stdout",
     "output_type": "stream",
     "text": [
      "(169909, 19)\n",
      "   acousticness                                   artists  danceability  \\\n",
      "0         0.995                       ['Carl Woitschach']         0.708   \n",
      "1         0.994  ['Robert Schumann', 'Vladimir Horowitz']         0.379   \n",
      "2         0.604                   ['Seweryn Goszczyński']         0.749   \n",
      "3         0.995                      ['Francisco Canaro']         0.781   \n",
      "4         0.990  ['Frédéric Chopin', 'Vladimir Horowitz']         0.210   \n",
      "\n",
      "   duration_ms  energy  explicit                      id  instrumentalness  \\\n",
      "0       158648  0.1950         0  6KbQ3uYMLKb5jDxLF7wYDD             0.563   \n",
      "1       282133  0.0135         0  6KuQTIu1KoTTkLXKrwlLPV             0.901   \n",
      "2       104300  0.2200         0  6L63VW0PibdM1HDSBoqnoM             0.000   \n",
      "3       180760  0.1300         0  6M94FkXd15sOAOQYRnWPN8             0.887   \n",
      "4       687733  0.2040         0  6N6tiFZ9vLTSOIxkj8qKrd             0.908   \n",
      "\n",
      "   key  liveness  loudness  mode  \\\n",
      "0   10    0.1510   -12.428     1   \n",
      "1    8    0.0763   -28.454     1   \n",
      "2    5    0.1190   -19.924     0   \n",
      "3    1    0.1110   -14.734     0   \n",
      "4   11    0.0980   -16.829     1   \n",
      "\n",
      "                                            name  popularity release_date  \\\n",
      "0                    Singende Bataillone 1. Teil           0         1928   \n",
      "1       Fantasiestücke, Op. 111: Più tosto lento           0         1928   \n",
      "2                 Chapter 1.18 - Zamek kaniowski           0         1928   \n",
      "3  Bebamos Juntos - Instrumental (Remasterizado)           0   1928-09-25   \n",
      "4    Polonaise-Fantaisie in A-Flat Major, Op. 61           1         1928   \n",
      "\n",
      "   speechiness    tempo  valence  year  \n",
      "0       0.0506  118.469   0.7790  1928  \n",
      "1       0.0462   83.972   0.0767  1928  \n",
      "2       0.9290  107.177   0.8800  1928  \n",
      "3       0.0926  108.003   0.7200  1928  \n",
      "4       0.0424   62.149   0.0693  1928  \n"
     ]
    }
   ],
   "source": [
    "df = pd.read_csv(r\"H:\\Sparsh Ehsaas Documents\\Ehsaas\\ML\\data.csv\\data.csv\")\n",
    "print(df.shape)\n",
    "print(df.head())"
   ]
  },
  {
   "cell_type": "code",
   "execution_count": 5,
   "id": "ee286bc2-8aee-4c61-8a88-2e25ce6e4433",
   "metadata": {},
   "outputs": [
    {
     "name": "stdout",
     "output_type": "stream",
     "text": [
      "Index(['acousticness', 'artists', 'danceability', 'duration_ms', 'energy',\n",
      "       'explicit', 'id', 'instrumentalness', 'key', 'liveness', 'loudness',\n",
      "       'mode', 'name', 'popularity', 'release_date', 'speechiness', 'tempo',\n",
      "       'valence', 'year'],\n",
      "      dtype='object')\n"
     ]
    }
   ],
   "source": [
    "print(data.columns)"
   ]
  },
  {
   "cell_type": "code",
   "execution_count": 48,
   "id": "15e83f41-befa-4c2c-8c24-4a6b4710de48",
   "metadata": {},
   "outputs": [
    {
     "name": "stdout",
     "output_type": "stream",
     "text": [
      "Centroids:\n",
      "[[0.4552245  0.26145836 0.33717671 0.69893279]\n",
      " [0.60943961 0.65167142 0.67757697 0.80463619]]\n",
      "Cluster Labels:\n",
      "[1 0 1 ... 0 0 0]\n",
      "Distribution of data points across clusters:\n",
      "1    77567\n",
      "0    55373\n",
      "Name: count, dtype: int64\n"
     ]
    }
   ],
   "source": [
    "# 1. Centroids\n",
    "centroids = kmeans.cluster_centers_\n",
    "print(\"Centroids:\")\n",
    "print(centroids)\n",
    "\n",
    "# 2. Cluster Labels\n",
    "cluster_labels = kmeans.labels_\n",
    "print(\"Cluster Labels:\")\n",
    "print(cluster_labels)\n",
    "\n",
    "# 3. Distribution of data points\n",
    "cluster_distribution = pd.Series(cluster_labels).value_counts()\n",
    "print(\"Distribution of data points across clusters:\")\n",
    "print(cluster_distribution)\n"
   ]
  },
  {
   "cell_type": "code",
   "execution_count": 16,
   "id": "a0d6c280-18d3-4197-959f-887161237642",
   "metadata": {},
   "outputs": [
    {
     "name": "stdout",
     "output_type": "stream",
     "text": [
      "(50683, 21)\n",
      "             track_id             name           artist  \\\n",
      "0  TRIOREW128F424EAF0   Mr. Brightside      The Killers   \n",
      "1  TRRIVDJ128F429B0E8       Wonderwall            Oasis   \n",
      "2  TROUVHL128F426C441  Come as You Are          Nirvana   \n",
      "3  TRUEIND128F93038C4      Take Me Out  Franz Ferdinand   \n",
      "4  TRLNZBD128F935E4D8            Creep        Radiohead   \n",
      "\n",
      "                                 spotify_preview_url              spotify_id  \\\n",
      "0  https://p.scdn.co/mp3-preview/4d26180e6961fd46...  09ZQ5TmUG8TSL56n0knqrj   \n",
      "1  https://p.scdn.co/mp3-preview/d012e536916c927b...  06UfBBDISthj1ZJAtX4xjj   \n",
      "2  https://p.scdn.co/mp3-preview/a1c11bb1cb231031...  0keNu0t0tqsWtExGM3nT1D   \n",
      "3  https://p.scdn.co/mp3-preview/399c401370438be4...  0ancVQ9wEcHVd0RrGICTE4   \n",
      "4  https://p.scdn.co/mp3-preview/e7eb60e9466bc3a2...  01QoK9DA7VTeTSE3MNzp4I   \n",
      "\n",
      "                                                tags genre  year  duration_ms  \\\n",
      "0  rock, alternative, indie, alternative_rock, in...   NaN  2004       222200   \n",
      "1  rock, alternative, indie, pop, alternative_roc...   NaN  2006       258613   \n",
      "2   rock, alternative, alternative_rock, 90s, grunge   RnB  1991       218920   \n",
      "3  rock, alternative, indie, alternative_rock, in...   NaN  2004       237026   \n",
      "4  rock, alternative, indie, alternative_rock, in...   RnB  2008       238640   \n",
      "\n",
      "   danceability  ...  key  loudness  mode  speechiness  acousticness  \\\n",
      "0         0.355  ...    1    -4.360     1       0.0746      0.001190   \n",
      "1         0.409  ...    2    -4.373     1       0.0336      0.000807   \n",
      "2         0.508  ...    4    -5.783     0       0.0400      0.000175   \n",
      "3         0.279  ...    9    -8.851     1       0.0371      0.000389   \n",
      "4         0.515  ...    7    -9.935     1       0.0369      0.010200   \n",
      "\n",
      "   instrumentalness  liveness  valence    tempo  time_signature  \n",
      "0          0.000000    0.0971    0.240  148.114               4  \n",
      "1          0.000000    0.2070    0.651  174.426               4  \n",
      "2          0.000459    0.0878    0.543  120.012               4  \n",
      "3          0.000655    0.1330    0.490  104.560               4  \n",
      "4          0.000141    0.1290    0.104   91.841               4  \n",
      "\n",
      "[5 rows x 21 columns]\n"
     ]
    }
   ],
   "source": [
    "df = pd.read_csv(r\"H:\\Sparsh Ehsaas Documents\\Ehsaas\\ML\\Music Info.csv\")\n",
    "print(df.shape)\n",
    "print(df.head())"
   ]
  },
  {
   "cell_type": "code",
   "execution_count": 18,
   "id": "18642b1f-7237-4e7d-9d46-a45c28f12805",
   "metadata": {},
   "outputs": [
    {
     "name": "stdout",
     "output_type": "stream",
     "text": [
      "Index(['track_id', 'name', 'artist', 'spotify_preview_url', 'spotify_id',\n",
      "       'tags', 'genre', 'year', 'duration_ms', 'danceability', 'energy', 'key',\n",
      "       'loudness', 'mode', 'speechiness', 'acousticness', 'instrumentalness',\n",
      "       'liveness', 'valence', 'tempo', 'time_signature'],\n",
      "      dtype='object')\n"
     ]
    }
   ],
   "source": [
    "print(df.columns)"
   ]
  },
  {
   "cell_type": "code",
   "execution_count": 41,
   "id": "f78cf5a1-2b78-40cc-ba7f-1b05e2036f24",
   "metadata": {},
   "outputs": [
    {
     "name": "stdin",
     "output_type": "stream",
     "text": [
      "Enter the path to the image:  C:\\Users\\ehsaa\\Downloads\\anger.jpg\n"
     ]
    },
    {
     "name": "stdout",
     "output_type": "stream",
     "text": [
      "\u001b[1m1/1\u001b[0m \u001b[32m━━━━━━━━━━━━━━━━━━━━\u001b[0m\u001b[37m\u001b[0m \u001b[1m0s\u001b[0m 156ms/step\n",
      "Detected emotions: ['anger']\n",
      "Songs for anger:\n",
      "4                    Creep\n",
      "7             Karma Police\n",
      "10        Under the Bridge\n",
      "11       Seven Nation Army\n",
      "14                 Fix You\n",
      "18            Chasing Cars\n",
      "22       Bohemian Rhapsody\n",
      "27            No Surprises\n",
      "43       Where Is My Mind?\n",
      "63    Nothing Else Matters\n",
      "Name: name, dtype: object\n"
     ]
    }
   ],
   "source": [
    "import pandas as pd\n",
    "from sklearn.cluster import KMeans\n",
    "from sklearn.preprocessing import MinMaxScaler\n",
    "from keras.models import load_model\n",
    "from keras.preprocessing import image\n",
    "import cv2\n",
    "import numpy as np\n",
    "\n",
    "data = pd.read_csv(r\"H:\\Sparsh Ehsaas Documents\\Ehsaas\\ML\\Music Info.csv\")\n",
    "\n",
    "data.drop_duplicates(inplace=True, subset=['name'])\n",
    "\n",
    "col_features = ['danceability', 'energy', 'valence', 'loudness', \n",
    "                'tempo', 'acousticness', 'liveness', 'speechiness', 'instrumentalness']\n",
    "\n",
    "X = MinMaxScaler().fit_transform(data[col_features])\n",
    "\n",
    "kmeans = KMeans(init=\"k-means++\", n_clusters=10, random_state=15).fit(X) \n",
    "data['kmeans'] = kmeans.labels_\n",
    "\n",
    "# Load emotion detection model\n",
    "emotion_model_path = r\"final_model_all_emotions.h5.keras\"\n",
    "emotion_classifier = load_model(emotion_model_path, compile=False)\n",
    "EMOTIONS = [\"anger\", \"disgust\", \"fear\",\"happiness\", \"sadness\", \"surprise\", \"neutral\"]\n",
    "\n",
    "# Confidence threshold for emotion classification\n",
    "confidence_threshold = 0.5\n",
    "\n",
    "# Function to process image and detect emotions\n",
    "def process_image(image_path):\n",
    "    # Read the image\n",
    "    img = cv2.imread(image_path)\n",
    "    if img is None:\n",
    "        print(\"Error: Unable to read the image.\")\n",
    "        return []\n",
    "\n",
    "    # Convert image to grayscale\n",
    "    gray_img = cv2.cvtColor(img, cv2.COLOR_BGR2GRAY)\n",
    "\n",
    "    # Load the face detection model\n",
    "    face_detection = cv2.CascadeClassifier(cv2.data.haarcascades + 'haarcascade_frontalface_default.xml')\n",
    "    if face_detection.empty():\n",
    "        print(\"Error: Unable to load the face detection model.\")\n",
    "        return []\n",
    "\n",
    "    # Detect faces in the image\n",
    "    faces_detected = face_detection.detectMultiScale(gray_img, scaleFactor=1.1, minNeighbors=5, minSize=(30, 30))\n",
    "\n",
    "    emotions = []\n",
    "    for (x, y, w, h) in faces_detected:\n",
    "        roi_gray = gray_img[y:y+w, x:x+h]\n",
    "        roi_gray = cv2.resize(roi_gray, (48, 48))\n",
    "        img_pixels = image.img_to_array(roi_gray)\n",
    "        img_pixels = np.expand_dims(img_pixels, axis=0)\n",
    "        img_pixels /= 255\n",
    "        predictions = emotion_classifier.predict(img_pixels)\n",
    "\n",
    "        # Apply confidence threshold\n",
    "        max_confidence = np.max(predictions)\n",
    "        if max_confidence >= confidence_threshold:\n",
    "            max_index = np.argmax(predictions[0])\n",
    "            predicted_emotion = EMOTIONS[max_index]\n",
    "            emotions.append(predicted_emotion)\n",
    "\n",
    "    return emotions\n",
    "\n",
    "# Function to get music recommendations based on detected emotions\n",
    "def get_results(emotions):\n",
    "    NUM_RECOMMEND = 10\n",
    "    recommendations = {}\n",
    "    for emotion in emotions:\n",
    "        if emotion == 'happiness':\n",
    "            recommendations[emotion] = data[data['kmeans'] == 0]['name'].head(NUM_RECOMMEND)\n",
    "        elif emotion == 'sadness':\n",
    "            recommendations[emotion] = data[data['kmeans'] == 1]['name'].head(NUM_RECOMMEND)\n",
    "        elif emotion == 'disgust':\n",
    "            recommendations[emotion] = data[data['kmeans'] == 2]['name'].head(NUM_RECOMMEND)\n",
    "        elif emotion == 'anger':\n",
    "            recommendations[emotion] = data[data['kmeans'] == 3]['name'].head(NUM_RECOMMEND)\n",
    "        elif emotion == 'fear':\n",
    "            recommendations[emotion] = data[data['kmeans'] == 4]['name'].head(NUM_RECOMMEND)\n",
    "        elif emotion == 'surprise':\n",
    "            recommendations[emotion] = data[data['kmeans'] == 5]['name'].head(NUM_RECOMMEND)\n",
    "        elif emotion == 'neutral':\n",
    "            recommendations[emotion] = data[data['kmeans'] == 6]['name'].head(NUM_RECOMMEND)\n",
    "        else:\n",
    "            recommendations[emotion] = data[data['kmeans'] == 7]['name'].head(NUM_RECOMMEND)\n",
    "    return recommendations\n",
    "\n",
    "\n",
    "# Path to the image provided by the user\n",
    "image_path = input(\"Enter the path to the image: \")\n",
    "\n",
    "# Process the image and get detected emotions\n",
    "emotions = process_image(image_path)\n",
    "\n",
    "# Get music recommendations based on the detected emotions\n",
    "recommendations = get_results(emotions)\n",
    "\n",
    "# Print the detected emotions and corresponding song recommendations\n",
    "print(\"Detected emotions:\", emotions)\n",
    "for emotion, songs in recommendations.items():\n",
    "    print(f\"Songs for {emotion}:\")\n",
    "    print(songs)"
   ]
  }
 ],
 "metadata": {
  "kernelspec": {
   "display_name": "Python 3 (ipykernel)",
   "language": "python",
   "name": "python3"
  },
  "language_info": {
   "codemirror_mode": {
    "name": "ipython",
    "version": 3
   },
   "file_extension": ".py",
   "mimetype": "text/x-python",
   "name": "python",
   "nbconvert_exporter": "python",
   "pygments_lexer": "ipython3",
   "version": "3.12.3"
  }
 },
 "nbformat": 4,
 "nbformat_minor": 5
}
